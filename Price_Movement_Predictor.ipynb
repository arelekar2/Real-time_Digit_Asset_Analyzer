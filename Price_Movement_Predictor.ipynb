{
 "cells": [
  {
   "cell_type": "code",
   "execution_count": 73,
   "metadata": {},
   "outputs": [],
   "source": [
    "from pyspark.sql import SparkSession\n",
    "spark = SparkSession.builder.appName('ml-price-movement-predictor').getOrCreate()"
   ]
  },
  {
   "cell_type": "code",
   "execution_count": 74,
   "metadata": {},
   "outputs": [],
   "source": [
    "import pandas as pd\n",
    "pd_df = pd.read_csv('mock_stream_out.csv')\n",
    "\n",
    "#removing columns with a lot of NaNs\n",
    "pd_df = pd_df.drop(columns=['OBV','Acc/Dist_ROC']).dropna()\n",
    "\n",
    "pd_df['Change_in_close'] = pd_df['Close'] - pd_df['Close'].shift(1)\n",
    "\n",
    "def label_change_direction (row):\n",
    "    if row['Change_in_close'] > 0 :\n",
    "        return 1\n",
    "    if row['Change_in_close'] == 0 :\n",
    "        return 0\n",
    "    if row['Change_in_close'] < 0 :\n",
    "        return -1\n",
    "\n",
    "pd_df['Change_direction'] = pd_df.apply (lambda row: label_change_direction (row), axis=1)\n",
    "\n",
    "pd_df = pd_df.drop(columns=['Change_in_close'])"
   ]
  },
  {
   "cell_type": "code",
   "execution_count": 75,
   "metadata": {},
   "outputs": [],
   "source": [
    "numeric_data = pd_df.select_dtypes(include=['int64','float64'])"
   ]
  },
  {
   "cell_type": "code",
   "execution_count": 76,
   "metadata": {},
   "outputs": [],
   "source": [
    "pd_df = pd_df.drop(columns = ['Unnamed: 0', 'Unix Timestamp', 'Date', 'Symbol'])\n",
    "cols = pd_df.columns.tolist()"
   ]
  },
  {
   "cell_type": "code",
   "execution_count": 77,
   "metadata": {},
   "outputs": [],
   "source": [
    "from pyspark.ml.feature import OneHotEncoderEstimator, StringIndexer, VectorAssembler\n",
    "categoricalColumns = []\n",
    "stages = []\n",
    "for categoricalCol in categoricalColumns:\n",
    "    stringIndexer = StringIndexer(inputCol = categoricalCol, outputCol = categoricalCol + 'Index')\n",
    "    encoder = OneHotEncoderEstimator(inputCols=[stringIndexer.getOutputCol()], outputCols=[categoricalCol + \"classVec\"])\n",
    "    stages += [stringIndexer, encoder]\n",
    "label_stringIdx = StringIndexer(inputCol = 'Change_direction', outputCol = 'label')\n",
    "stages += [label_stringIdx]\n",
    "numericCols = pd_df.columns.tolist()\n",
    "numericCols.remove('Change_direction')\n",
    "assemblerInputs = [c + \"classVec\" for c in categoricalColumns] + numericCols\n",
    "assembler = VectorAssembler(inputCols=assemblerInputs, outputCol=\"features\")\n",
    "stages += [assembler]"
   ]
  },
  {
   "cell_type": "code",
   "execution_count": 78,
   "metadata": {},
   "outputs": [],
   "source": [
    "df = spark.createDataFrame(pd_df.dropna())"
   ]
  },
  {
   "cell_type": "code",
   "execution_count": 79,
   "metadata": {},
   "outputs": [
    {
     "name": "stdout",
     "output_type": "stream",
     "text": [
      "root\n",
      " |-- label: double (nullable = false)\n",
      " |-- features: vector (nullable = true)\n",
      " |-- Open: double (nullable = true)\n",
      " |-- High: double (nullable = true)\n",
      " |-- Low: double (nullable = true)\n",
      " |-- Close: double (nullable = true)\n",
      " |-- Volume: double (nullable = true)\n",
      " |-- SMA: double (nullable = true)\n",
      " |-- EMA: double (nullable = true)\n",
      " |-- Momentum: double (nullable = true)\n",
      " |-- ROC: double (nullable = true)\n",
      " |-- RSI: double (nullable = true)\n",
      " |-- BBANDUP: double (nullable = true)\n",
      " |-- BBANDLO: double (nullable = true)\n",
      " |-- MACD: double (nullable = true)\n",
      " |-- MACDsign: double (nullable = true)\n",
      " |-- MACDdiff: double (nullable = true)\n",
      " |-- Change_direction: double (nullable = true)\n",
      "\n"
     ]
    }
   ],
   "source": [
    "from pyspark.ml import Pipeline\n",
    "pipeline = Pipeline(stages = stages)\n",
    "pipelineModel = pipeline.fit(df)\n",
    "df = pipelineModel.transform(df)\n",
    "selectedCols = ['label', 'features'] + cols\n",
    "df = df.select(selectedCols)\n",
    "df.printSchema()"
   ]
  },
  {
   "cell_type": "code",
   "execution_count": 80,
   "metadata": {},
   "outputs": [
    {
     "data": {
      "text/html": [
       "<div>\n",
       "<style scoped>\n",
       "    .dataframe tbody tr th:only-of-type {\n",
       "        vertical-align: middle;\n",
       "    }\n",
       "\n",
       "    .dataframe tbody tr th {\n",
       "        vertical-align: top;\n",
       "    }\n",
       "\n",
       "    .dataframe thead th {\n",
       "        text-align: right;\n",
       "    }\n",
       "</style>\n",
       "<table border=\"1\" class=\"dataframe\">\n",
       "  <thead>\n",
       "    <tr style=\"text-align: right;\">\n",
       "      <th></th>\n",
       "      <th>0</th>\n",
       "      <th>1</th>\n",
       "      <th>2</th>\n",
       "      <th>3</th>\n",
       "      <th>4</th>\n",
       "    </tr>\n",
       "  </thead>\n",
       "  <tbody>\n",
       "    <tr>\n",
       "      <th>label</th>\n",
       "      <td>2</td>\n",
       "      <td>2</td>\n",
       "      <td>0</td>\n",
       "      <td>2</td>\n",
       "      <td>0</td>\n",
       "    </tr>\n",
       "    <tr>\n",
       "      <th>features</th>\n",
       "      <td>[243.6, 243.6, 243.6, 243.6, 0.0, 243.60000000...</td>\n",
       "      <td>[243.6, 243.6, 243.6, 243.6, 0.0, 243.60000000...</td>\n",
       "      <td>[243.6, 243.75, 243.6, 243.63, 1.0, 243.610000...</td>\n",
       "      <td>[243.63, 243.63, 243.63, 243.63, 0.0, 243.6200...</td>\n",
       "      <td>[243.63, 244.0, 243.63, 244.0, 3.973254282, 24...</td>\n",
       "    </tr>\n",
       "    <tr>\n",
       "      <th>Open</th>\n",
       "      <td>243.6</td>\n",
       "      <td>243.6</td>\n",
       "      <td>243.6</td>\n",
       "      <td>243.63</td>\n",
       "      <td>243.63</td>\n",
       "    </tr>\n",
       "    <tr>\n",
       "      <th>High</th>\n",
       "      <td>243.6</td>\n",
       "      <td>243.6</td>\n",
       "      <td>243.75</td>\n",
       "      <td>243.63</td>\n",
       "      <td>244</td>\n",
       "    </tr>\n",
       "    <tr>\n",
       "      <th>Low</th>\n",
       "      <td>243.6</td>\n",
       "      <td>243.6</td>\n",
       "      <td>243.6</td>\n",
       "      <td>243.63</td>\n",
       "      <td>243.63</td>\n",
       "    </tr>\n",
       "    <tr>\n",
       "      <th>Close</th>\n",
       "      <td>243.6</td>\n",
       "      <td>243.6</td>\n",
       "      <td>243.63</td>\n",
       "      <td>243.63</td>\n",
       "      <td>244</td>\n",
       "    </tr>\n",
       "    <tr>\n",
       "      <th>Volume</th>\n",
       "      <td>0</td>\n",
       "      <td>0</td>\n",
       "      <td>1</td>\n",
       "      <td>0</td>\n",
       "      <td>3.97325</td>\n",
       "    </tr>\n",
       "    <tr>\n",
       "      <th>SMA</th>\n",
       "      <td>243.6</td>\n",
       "      <td>243.6</td>\n",
       "      <td>243.61</td>\n",
       "      <td>243.62</td>\n",
       "      <td>243.753</td>\n",
       "    </tr>\n",
       "    <tr>\n",
       "      <th>EMA</th>\n",
       "      <td>244.27</td>\n",
       "      <td>244.237</td>\n",
       "      <td>244.208</td>\n",
       "      <td>244.18</td>\n",
       "      <td>244.171</td>\n",
       "    </tr>\n",
       "    <tr>\n",
       "      <th>Momentum</th>\n",
       "      <td>-0.35</td>\n",
       "      <td>0</td>\n",
       "      <td>0.03</td>\n",
       "      <td>0.03</td>\n",
       "      <td>0.4</td>\n",
       "    </tr>\n",
       "    <tr>\n",
       "      <th>ROC</th>\n",
       "      <td>0</td>\n",
       "      <td>0</td>\n",
       "      <td>0.0123153</td>\n",
       "      <td>0.0123153</td>\n",
       "      <td>0.164204</td>\n",
       "    </tr>\n",
       "    <tr>\n",
       "      <th>RSI</th>\n",
       "      <td>23.4734</td>\n",
       "      <td>23.4734</td>\n",
       "      <td>26.1414</td>\n",
       "      <td>26.1414</td>\n",
       "      <td>50.7178</td>\n",
       "    </tr>\n",
       "    <tr>\n",
       "      <th>BBANDUP</th>\n",
       "      <td>244.918</td>\n",
       "      <td>244.723</td>\n",
       "      <td>244.507</td>\n",
       "      <td>244.449</td>\n",
       "      <td>244.103</td>\n",
       "    </tr>\n",
       "    <tr>\n",
       "      <th>BBANDLO</th>\n",
       "      <td>242.983</td>\n",
       "      <td>243.038</td>\n",
       "      <td>243.125</td>\n",
       "      <td>243.121</td>\n",
       "      <td>243.368</td>\n",
       "    </tr>\n",
       "    <tr>\n",
       "      <th>MACD</th>\n",
       "      <td>0.127549</td>\n",
       "      <td>0.122278</td>\n",
       "      <td>0.114703</td>\n",
       "      <td>0.107466</td>\n",
       "      <td>0.0748569</td>\n",
       "    </tr>\n",
       "    <tr>\n",
       "      <th>MACDsign</th>\n",
       "      <td>0.134397</td>\n",
       "      <td>0.131746</td>\n",
       "      <td>0.128086</td>\n",
       "      <td>0.123722</td>\n",
       "      <td>0.113499</td>\n",
       "    </tr>\n",
       "    <tr>\n",
       "      <th>MACDdiff</th>\n",
       "      <td>-0.00684857</td>\n",
       "      <td>-0.00946747</td>\n",
       "      <td>-0.0133827</td>\n",
       "      <td>-0.0162562</td>\n",
       "      <td>-0.0386423</td>\n",
       "    </tr>\n",
       "    <tr>\n",
       "      <th>Change_direction</th>\n",
       "      <td>0</td>\n",
       "      <td>0</td>\n",
       "      <td>1</td>\n",
       "      <td>0</td>\n",
       "      <td>1</td>\n",
       "    </tr>\n",
       "  </tbody>\n",
       "</table>\n",
       "</div>"
      ],
      "text/plain": [
       "                                                                  0  \\\n",
       "label                                                             2   \n",
       "features          [243.6, 243.6, 243.6, 243.6, 0.0, 243.60000000...   \n",
       "Open                                                          243.6   \n",
       "High                                                          243.6   \n",
       "Low                                                           243.6   \n",
       "Close                                                         243.6   \n",
       "Volume                                                            0   \n",
       "SMA                                                           243.6   \n",
       "EMA                                                          244.27   \n",
       "Momentum                                                      -0.35   \n",
       "ROC                                                               0   \n",
       "RSI                                                         23.4734   \n",
       "BBANDUP                                                     244.918   \n",
       "BBANDLO                                                     242.983   \n",
       "MACD                                                       0.127549   \n",
       "MACDsign                                                   0.134397   \n",
       "MACDdiff                                                -0.00684857   \n",
       "Change_direction                                                  0   \n",
       "\n",
       "                                                                  1  \\\n",
       "label                                                             2   \n",
       "features          [243.6, 243.6, 243.6, 243.6, 0.0, 243.60000000...   \n",
       "Open                                                          243.6   \n",
       "High                                                          243.6   \n",
       "Low                                                           243.6   \n",
       "Close                                                         243.6   \n",
       "Volume                                                            0   \n",
       "SMA                                                           243.6   \n",
       "EMA                                                         244.237   \n",
       "Momentum                                                          0   \n",
       "ROC                                                               0   \n",
       "RSI                                                         23.4734   \n",
       "BBANDUP                                                     244.723   \n",
       "BBANDLO                                                     243.038   \n",
       "MACD                                                       0.122278   \n",
       "MACDsign                                                   0.131746   \n",
       "MACDdiff                                                -0.00946747   \n",
       "Change_direction                                                  0   \n",
       "\n",
       "                                                                  2  \\\n",
       "label                                                             0   \n",
       "features          [243.6, 243.75, 243.6, 243.63, 1.0, 243.610000...   \n",
       "Open                                                          243.6   \n",
       "High                                                         243.75   \n",
       "Low                                                           243.6   \n",
       "Close                                                        243.63   \n",
       "Volume                                                            1   \n",
       "SMA                                                          243.61   \n",
       "EMA                                                         244.208   \n",
       "Momentum                                                       0.03   \n",
       "ROC                                                       0.0123153   \n",
       "RSI                                                         26.1414   \n",
       "BBANDUP                                                     244.507   \n",
       "BBANDLO                                                     243.125   \n",
       "MACD                                                       0.114703   \n",
       "MACDsign                                                   0.128086   \n",
       "MACDdiff                                                 -0.0133827   \n",
       "Change_direction                                                  1   \n",
       "\n",
       "                                                                  3  \\\n",
       "label                                                             2   \n",
       "features          [243.63, 243.63, 243.63, 243.63, 0.0, 243.6200...   \n",
       "Open                                                         243.63   \n",
       "High                                                         243.63   \n",
       "Low                                                          243.63   \n",
       "Close                                                        243.63   \n",
       "Volume                                                            0   \n",
       "SMA                                                          243.62   \n",
       "EMA                                                          244.18   \n",
       "Momentum                                                       0.03   \n",
       "ROC                                                       0.0123153   \n",
       "RSI                                                         26.1414   \n",
       "BBANDUP                                                     244.449   \n",
       "BBANDLO                                                     243.121   \n",
       "MACD                                                       0.107466   \n",
       "MACDsign                                                   0.123722   \n",
       "MACDdiff                                                 -0.0162562   \n",
       "Change_direction                                                  0   \n",
       "\n",
       "                                                                  4  \n",
       "label                                                             0  \n",
       "features          [243.63, 244.0, 243.63, 244.0, 3.973254282, 24...  \n",
       "Open                                                         243.63  \n",
       "High                                                            244  \n",
       "Low                                                          243.63  \n",
       "Close                                                           244  \n",
       "Volume                                                      3.97325  \n",
       "SMA                                                         243.753  \n",
       "EMA                                                         244.171  \n",
       "Momentum                                                        0.4  \n",
       "ROC                                                        0.164204  \n",
       "RSI                                                         50.7178  \n",
       "BBANDUP                                                     244.103  \n",
       "BBANDLO                                                     243.368  \n",
       "MACD                                                      0.0748569  \n",
       "MACDsign                                                   0.113499  \n",
       "MACDdiff                                                 -0.0386423  \n",
       "Change_direction                                                  1  "
      ]
     },
     "execution_count": 80,
     "metadata": {},
     "output_type": "execute_result"
    }
   ],
   "source": [
    "pd.DataFrame(df.take(5), columns=df.columns).transpose()"
   ]
  },
  {
   "cell_type": "code",
   "execution_count": 81,
   "metadata": {},
   "outputs": [
    {
     "name": "stdout",
     "output_type": "stream",
     "text": [
      "Training Dataset Count: 25711\n",
      "Test Dataset Count: 10879\n"
     ]
    }
   ],
   "source": [
    "train, test = df.randomSplit([0.7, 0.3], seed = 14122019)\n",
    "print(\"Training Dataset Count: \" + str(train.count()))\n",
    "print(\"Test Dataset Count: \" + str(test.count()))"
   ]
  },
  {
   "cell_type": "code",
   "execution_count": 82,
   "metadata": {},
   "outputs": [
    {
     "name": "stdout",
     "output_type": "stream",
     "text": [
      "+-----+--------------------+------+-----+------+-----+-----------+------------------+------------------+------------------+-------------------+---------------+------------------+------------------+-------------------+------------------+--------------------+----------------+--------------------+--------------------+----------+\n",
      "|label|            features|  Open| High|   Low|Close|     Volume|               SMA|               EMA|          Momentum|                ROC|            RSI|           BBANDUP|           BBANDLO|               MACD|          MACDsign|            MACDdiff|Change_direction|       rawPrediction|         probability|prediction|\n",
      "+-----+--------------------+------+-----+------+-----+-----------+------------------+------------------+------------------+-------------------+---------------+------------------+------------------+-------------------+------------------+--------------------+----------------+--------------------+--------------------+----------+\n",
      "|  0.0|[243.63,244.0,243...|243.63|244.0|243.63|244.0|3.973254282|243.75333333333344|244.17089966389716|0.4000000000000057|0.16420361247947687|50.717798454998|244.10316546579318|243.36783453420693|0.07485688240893751|0.1134992095046983|-0.03864232709576...|             1.0|[0.38146495950488...|[0.45858805771846...|       0.0|\n",
      "+-----+--------------------+------+-----+------+-----+-----------+------------------+------------------+------------------+-------------------+---------------+------------------+------------------+-------------------+------------------+--------------------+----------------+--------------------+--------------------+----------+\n",
      "only showing top 1 row\n",
      "\n"
     ]
    }
   ],
   "source": [
    "from pyspark.ml.classification import LogisticRegression\n",
    "lr = LogisticRegression(featuresCol = 'features', labelCol = 'label', maxIter=10)\n",
    "lrModel = lr.fit(train)\n",
    "predictions = lrModel.transform(test)\n",
    "predictions.show(1)"
   ]
  },
  {
   "cell_type": "code",
   "execution_count": 83,
   "metadata": {},
   "outputs": [],
   "source": [
    "#import matplotlib.pyplot as plt\n",
    "#import numpy as np\n",
    "#lrModel.coefficientMatrix"
   ]
  },
  {
   "cell_type": "code",
   "execution_count": 84,
   "metadata": {},
   "outputs": [
    {
     "name": "stdout",
     "output_type": "stream",
     "text": [
      "Test set accuracy = 0.6985017005239452\n"
     ]
    }
   ],
   "source": [
    "from pyspark.ml.evaluation import MulticlassClassificationEvaluator\n",
    "evaluator = MulticlassClassificationEvaluator(metricName=\"accuracy\")\n",
    "print(\"Test set accuracy = \" + str(evaluator.evaluate(predictionAndLabels)))"
   ]
  },
  {
   "cell_type": "code",
   "execution_count": 89,
   "metadata": {},
   "outputs": [
    {
     "name": "stdout",
     "output_type": "stream",
     "text": [
      "+-----+--------------------+------+-----+------+-----+-----------+------------------+------------------+------------------+-------------------+---------------+------------------+------------------+-------------------+------------------+--------------------+----------------+--------------------+--------------------+----------+\n",
      "|label|            features|  Open| High|   Low|Close|     Volume|               SMA|               EMA|          Momentum|                ROC|            RSI|           BBANDUP|           BBANDLO|               MACD|          MACDsign|            MACDdiff|Change_direction|       rawPrediction|         probability|prediction|\n",
      "+-----+--------------------+------+-----+------+-----+-----------+------------------+------------------+------------------+-------------------+---------------+------------------+------------------+-------------------+------------------+--------------------+----------------+--------------------+--------------------+----------+\n",
      "|  0.0|[243.63,244.0,243...|243.63|244.0|243.63|244.0|3.973254282|243.75333333333344|244.17089966389716|0.4000000000000057|0.16420361247947687|50.717798454998|244.10316546579318|243.36783453420693|0.07485688240893751|0.1134992095046983|-0.03864232709576...|             1.0|[5768.0,7512.0,53...|[0.41760787720822...|       1.0|\n",
      "+-----+--------------------+------+-----+------+-----+-----------+------------------+------------------+------------------+-------------------+---------------+------------------+------------------+-------------------+------------------+--------------------+----------------+--------------------+--------------------+----------+\n",
      "only showing top 1 row\n",
      "\n"
     ]
    }
   ],
   "source": [
    "from pyspark.ml.classification import DecisionTreeClassifier\n",
    "dt = DecisionTreeClassifier(featuresCol = 'features', labelCol = 'label', maxDepth = 3)\n",
    "dtModel = dt.fit(train)\n",
    "predictions = dtModel.transform(test)\n",
    "predictions.show(1)\n",
    "predictionAndLabels = predictions.select(\"prediction\", \"label\")"
   ]
  },
  {
   "cell_type": "code",
   "execution_count": 90,
   "metadata": {},
   "outputs": [
    {
     "name": "stdout",
     "output_type": "stream",
     "text": [
      "Test set accuracy = 0.5790054232925821\n"
     ]
    }
   ],
   "source": [
    "evaluator = MulticlassClassificationEvaluator(metricName=\"accuracy\")\n",
    "print(\"Test set accuracy = \" + str(evaluator.evaluate(predictionAndLabels)))"
   ]
  },
  {
   "cell_type": "code",
   "execution_count": 91,
   "metadata": {},
   "outputs": [
    {
     "name": "stdout",
     "output_type": "stream",
     "text": [
      "+-----+--------------------+------+-----+------+-----+-----------+------------------+------------------+------------------+-------------------+---------------+------------------+------------------+-------------------+------------------+--------------------+----------------+--------------------+--------------------+----------+\n",
      "|label|            features|  Open| High|   Low|Close|     Volume|               SMA|               EMA|          Momentum|                ROC|            RSI|           BBANDUP|           BBANDLO|               MACD|          MACDsign|            MACDdiff|Change_direction|       rawPrediction|         probability|prediction|\n",
      "+-----+--------------------+------+-----+------+-----+-----------+------------------+------------------+------------------+-------------------+---------------+------------------+------------------+-------------------+------------------+--------------------+----------------+--------------------+--------------------+----------+\n",
      "|  0.0|[243.63,244.0,243...|243.63|244.0|243.63|244.0|3.973254282|243.75333333333344|244.17089966389716|0.4000000000000057|0.16420361247947687|50.717798454998|244.10316546579318|243.36783453420693|0.07485688240893751|0.1134992095046983|-0.03864232709576...|             1.0|[8.81499467112645...|[0.44074973355632...|       0.0|\n",
      "+-----+--------------------+------+-----+------+-----+-----------+------------------+------------------+------------------+-------------------+---------------+------------------+------------------+-------------------+------------------+--------------------+----------------+--------------------+--------------------+----------+\n",
      "only showing top 1 row\n",
      "\n"
     ]
    }
   ],
   "source": [
    "from pyspark.ml.classification import RandomForestClassifier\n",
    "rf = RandomForestClassifier(featuresCol = 'features', labelCol = 'label')\n",
    "rfModel = rf.fit(train)\n",
    "predictions = rfModel.transform(test)\n",
    "predictions.show(1)\n",
    "predictionAndLabels = predictions.select(\"prediction\", \"label\")"
   ]
  },
  {
   "cell_type": "code",
   "execution_count": 92,
   "metadata": {},
   "outputs": [
    {
     "name": "stdout",
     "output_type": "stream",
     "text": [
      "Test set accuracy = 0.5957349021049729\n"
     ]
    }
   ],
   "source": [
    "evaluator = MulticlassClassificationEvaluator(metricName=\"accuracy\")\n",
    "print(\"Test set accuracy = \" + str(evaluator.evaluate(predictionAndLabels)))"
   ]
  },
  {
   "cell_type": "code",
   "execution_count": 72,
   "metadata": {},
   "outputs": [],
   "source": [
    "#Won't work on our dataset as GBT only supports binary classification yet\n",
    "#from pyspark.ml.classification import GBTClassifier\n",
    "#gbt = GBTClassifier(maxIter=10)\n",
    "#gbtModel = gbt.fit(train)\n",
    "#predictions = gbtModel.transform(test)\n",
    "#predictions.show(1)"
   ]
  },
  {
   "cell_type": "code",
   "execution_count": 93,
   "metadata": {},
   "outputs": [
    {
     "name": "stdout",
     "output_type": "stream",
     "text": [
      "Test set accuracy = 0.702178509054141\n"
     ]
    }
   ],
   "source": [
    "from pyspark.ml.classification import MultilayerPerceptronClassifier\n",
    "\n",
    "# specify layers for the neural network:\n",
    "# input layer of size 4 (features), two intermediate of size 5 and 4\n",
    "# and output of size 3 (classes)\n",
    "layers = [len(assemblerInputs), 5, 5, 5, 5, 3]\n",
    "\n",
    "# create the trainer and set its parameters\n",
    "trainer = MultilayerPerceptronClassifier(maxIter=100, layers=layers, blockSize=128, seed=1234)\n",
    "\n",
    "# train the model\n",
    "model = trainer.fit(train)\n",
    "\n",
    "# compute accuracy on the test set\n",
    "predictions = model.transform(test)\n",
    "predictionAndLabels = predictions.select(\"prediction\", \"label\")\n",
    "evaluator = MulticlassClassificationEvaluator(metricName=\"accuracy\")\n",
    "print(\"Test set accuracy = \" + str(evaluator.evaluate(predictionAndLabels)))\n"
   ]
  }
 ],
 "metadata": {
  "kernelspec": {
   "display_name": "Python 3",
   "language": "python",
   "name": "python3"
  },
  "language_info": {
   "codemirror_mode": {
    "name": "ipython",
    "version": 3
   },
   "file_extension": ".py",
   "mimetype": "text/x-python",
   "name": "python",
   "nbconvert_exporter": "python",
   "pygments_lexer": "ipython3",
   "version": "3.6.8"
  }
 },
 "nbformat": 4,
 "nbformat_minor": 2
}
